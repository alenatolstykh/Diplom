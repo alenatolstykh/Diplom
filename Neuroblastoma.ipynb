{
 "cells": [
  {
   "cell_type": "code",
   "execution_count": 4,
   "metadata": {
    "collapsed": true
   },
   "outputs": [],
   "source": [
    "import pandas as pd\n",
    "import numpy as np\n",
    "import seaborn as sns\n",
    "from sklearn.svm import SVC\n",
    "from sklearn.model_selection import cross_val_predict, train_test_split, StratifiedKFold, GridSearchCV\n",
    "from sklearn.metrics import accuracy_score, precision_score,recall_score\n",
    "from sklearn.preprocessing import StandardScaler\n",
    "from sklearn.pipeline import Pipeline"
   ]
  },
  {
   "cell_type": "markdown",
   "metadata": {},
   "source": [
    "# Data loading"
   ]
  },
  {
   "cell_type": "markdown",
   "metadata": {},
   "source": [
    "Load features are used in SVMth_10"
   ]
  },
  {
   "cell_type": "code",
   "execution_count": 5,
   "metadata": {},
   "outputs": [
    {
     "data": {
      "text/html": [
       "<div>\n",
       "<style>\n",
       "    .dataframe thead tr:only-child th {\n",
       "        text-align: right;\n",
       "    }\n",
       "\n",
       "    .dataframe thead th {\n",
       "        text-align: left;\n",
       "    }\n",
       "\n",
       "    .dataframe tbody tr th {\n",
       "        vertical-align: top;\n",
       "    }\n",
       "</style>\n",
       "<table border=\"1\" class=\"dataframe\">\n",
       "  <thead>\n",
       "    <tr style=\"text-align: right;\">\n",
       "      <th></th>\n",
       "      <th>Oligo-ID</th>\n",
       "      <th>Gene symbols</th>\n",
       "      <th>Entrez gene IDs</th>\n",
       "      <th>RefSeq IDs</th>\n",
       "      <th>Gene IDs</th>\n",
       "      <th>Transcript IDs</th>\n",
       "    </tr>\n",
       "  </thead>\n",
       "  <tbody>\n",
       "    <tr>\n",
       "      <th>0</th>\n",
       "      <td>A_23_P3643</td>\n",
       "      <td>ABCA13</td>\n",
       "      <td>ABCA13</td>\n",
       "      <td>NM_152701.3</td>\n",
       "      <td>ENSG00000179869</td>\n",
       "      <td>ENST00000544596; ENST00000411975; ENST00000435803</td>\n",
       "    </tr>\n",
       "    <tr>\n",
       "      <th>1</th>\n",
       "      <td>A_32_P1701</td>\n",
       "      <td>ABCC5</td>\n",
       "      <td>ABCC5</td>\n",
       "      <td>NM_005688.2; NM_001023587.1</td>\n",
       "      <td>ENSG00000114770</td>\n",
       "      <td>ENST00000427120</td>\n",
       "    </tr>\n",
       "    <tr>\n",
       "      <th>2</th>\n",
       "      <td>A_23_P27688</td>\n",
       "      <td>ADM5</td>\n",
       "      <td>ADM5</td>\n",
       "      <td>NM_001101340.1</td>\n",
       "      <td>ENSG00000224420</td>\n",
       "      <td>ENST00000420022</td>\n",
       "    </tr>\n",
       "    <tr>\n",
       "      <th>3</th>\n",
       "      <td>A_23_P70359</td>\n",
       "      <td>AGPAT4</td>\n",
       "      <td>AGPAT4</td>\n",
       "      <td>NM_020133.2</td>\n",
       "      <td>ENSG00000026652</td>\n",
       "      <td>NaN</td>\n",
       "    </tr>\n",
       "    <tr>\n",
       "      <th>4</th>\n",
       "      <td>A_32_P141768</td>\n",
       "      <td>AGPAT4</td>\n",
       "      <td>AGPAT4</td>\n",
       "      <td>NM_020133.2</td>\n",
       "      <td>ENSG00000026652</td>\n",
       "      <td>ENST00000366911; ENST00000320285</td>\n",
       "    </tr>\n",
       "  </tbody>\n",
       "</table>\n",
       "</div>"
      ],
      "text/plain": [
       "       Oligo-ID Gene symbols Entrez gene IDs                   RefSeq IDs  \\\n",
       "0    A_23_P3643       ABCA13          ABCA13                  NM_152701.3   \n",
       "1    A_32_P1701        ABCC5           ABCC5  NM_005688.2; NM_001023587.1   \n",
       "2   A_23_P27688         ADM5            ADM5               NM_001101340.1   \n",
       "3   A_23_P70359       AGPAT4          AGPAT4                  NM_020133.2   \n",
       "4  A_32_P141768       AGPAT4          AGPAT4                  NM_020133.2   \n",
       "\n",
       "          Gene IDs                                     Transcript IDs  \n",
       "0  ENSG00000179869  ENST00000544596; ENST00000411975; ENST00000435803  \n",
       "1  ENSG00000114770                                    ENST00000427120  \n",
       "2  ENSG00000224420                                    ENST00000420022  \n",
       "3  ENSG00000026652                                                NaN  \n",
       "4  ENSG00000026652                   ENST00000366911; ENST00000320285  "
      ]
     },
     "execution_count": 5,
     "metadata": {},
     "output_type": "execute_result"
    }
   ],
   "source": [
    "features_10 = pd.read_csv('Classifier_2014_CCR_Supplementary_Table4.csv')\n",
    "features_10.head()"
   ]
  },
  {
   "cell_type": "code",
   "execution_count": 6,
   "metadata": {
    "collapsed": true
   },
   "outputs": [],
   "source": [
    "features = np.unique(features_10.loc[:, 'Oligo-ID'].dropna())"
   ]
  },
  {
   "cell_type": "code",
   "execution_count": 7,
   "metadata": {
    "collapsed": true
   },
   "outputs": [],
   "source": [
    "data = pd.read_csv('exprsNorm_NB_oneColor709.csv', index_col=0).T"
   ]
  },
  {
   "cell_type": "code",
   "execution_count": 8,
   "metadata": {
    "collapsed": true
   },
   "outputs": [],
   "source": [
    "data = data.loc[:, features]"
   ]
  },
  {
   "cell_type": "code",
   "execution_count": 9,
   "metadata": {
    "collapsed": true
   },
   "outputs": [],
   "source": [
    "data.to_csv('Prepared_data.csv')"
   ]
  },
  {
   "cell_type": "code",
   "execution_count": 10,
   "metadata": {},
   "outputs": [
    {
     "data": {
      "text/html": [
       "<div>\n",
       "<style>\n",
       "    .dataframe thead tr:only-child th {\n",
       "        text-align: right;\n",
       "    }\n",
       "\n",
       "    .dataframe thead th {\n",
       "        text-align: left;\n",
       "    }\n",
       "\n",
       "    .dataframe tbody tr th {\n",
       "        vertical-align: top;\n",
       "    }\n",
       "</style>\n",
       "<table border=\"1\" class=\"dataframe\">\n",
       "  <thead>\n",
       "    <tr style=\"text-align: right;\">\n",
       "      <th></th>\n",
       "      <th>Classification SVM_th10</th>\n",
       "    </tr>\n",
       "    <tr>\n",
       "      <th>Array Barcode</th>\n",
       "      <th></th>\n",
       "    </tr>\n",
       "  </thead>\n",
       "  <tbody>\n",
       "    <tr>\n",
       "      <th>252038210001_1_1</th>\n",
       "      <td>1.0</td>\n",
       "    </tr>\n",
       "    <tr>\n",
       "      <th>252038210001_1_2</th>\n",
       "      <td>1.0</td>\n",
       "    </tr>\n",
       "    <tr>\n",
       "      <th>252038210001_1_4</th>\n",
       "      <td>1.0</td>\n",
       "    </tr>\n",
       "    <tr>\n",
       "      <th>252038210002_1_1</th>\n",
       "      <td>0.0</td>\n",
       "    </tr>\n",
       "    <tr>\n",
       "      <th>252038210002_1_2</th>\n",
       "      <td>0.0</td>\n",
       "    </tr>\n",
       "  </tbody>\n",
       "</table>\n",
       "</div>"
      ],
      "text/plain": [
       "                  Classification SVM_th10\n",
       "Array Barcode                            \n",
       "252038210001_1_1                      1.0\n",
       "252038210001_1_2                      1.0\n",
       "252038210001_1_4                      1.0\n",
       "252038210002_1_1                      0.0\n",
       "252038210002_1_2                      0.0"
      ]
     },
     "execution_count": 10,
     "metadata": {},
     "output_type": "execute_result"
    }
   ],
   "source": [
    "target = pd.read_csv('target.csv', header=2, index_col='Array Barcode')\n",
    "target = target.loc[:, ['Classification SVM_th10']]\n",
    "target.head()"
   ]
  },
  {
   "cell_type": "code",
   "execution_count": 11,
   "metadata": {
    "collapsed": true
   },
   "outputs": [],
   "source": [
    "idx = target.loc[np.logical_not(np.isnan(target.values.T[0]))].index"
   ]
  },
  {
   "cell_type": "code",
   "execution_count": 12,
   "metadata": {
    "collapsed": true
   },
   "outputs": [],
   "source": [
    "X = data.loc[idx]\n",
    "Y = target.loc[idx]"
   ]
  },
  {
   "cell_type": "code",
   "execution_count": 13,
   "metadata": {
    "collapsed": true
   },
   "outputs": [],
   "source": [
    "y = np.array(Y.values.T[0])"
   ]
  },
  {
   "cell_type": "markdown",
   "metadata": {},
   "source": [
    "# Fitting of the model"
   ]
  },
  {
   "cell_type": "code",
   "execution_count": 14,
   "metadata": {
    "scrolled": true
   },
   "outputs": [],
   "source": [
    "std = StandardScaler()\n",
    "clf = SVC(kernel='linear')\n",
    "model = Pipeline([('std', std), ('svc', clf)])"
   ]
  },
  {
   "cell_type": "code",
   "execution_count": 15,
   "metadata": {
    "collapsed": true
   },
   "outputs": [],
   "source": [
    "def nested_cros_val(clf, X, y, param_grid, scoring, grid_cv, scores,\n",
    "                    ext_n_folds=5, repeats=10, verbose=False):\n",
    "    results = []\n",
    "    \n",
    "    for i in range(repeats):\n",
    "        print('****** Repeat {} of {} ******'.format(i+1, repeats))\n",
    "        cv = StratifiedKFold(n_splits=ext_n_folds, shuffle=True, random_state=i)\n",
    "        \n",
    "        for train_idx, test_idx in cv.split(X, y):\n",
    "            result = []\n",
    "            X_train, y_train = X[train_idx], y[train_idx]\n",
    "            X_test, y_test = X[test_idx], y[test_idx]\n",
    "            \n",
    "            clf_gr = GridSearchCV(estimator=clf, param_grid=param_grid,\n",
    "                                  scoring=scoring, cv=grid_cv, refit=True)\n",
    "            clf_gr.fit(X_train, y_train)\n",
    "            \n",
    "            if verbose == True:\n",
    "                print('Best params:')\n",
    "                print(clf_gr.best_params_)\n",
    "                print('Best score:')\n",
    "                print(clf_gr.best_score_)\n",
    "            \n",
    "            y_pred = clf_gr.predict(X_test)\n",
    "            for score in scores:\n",
    "                result.append(score[1](y_test, y_pred))\n",
    "            \n",
    "            print('Test results:')\n",
    "            print(result)\n",
    "            results.append(result)\n",
    "            print('---------------------------------------------------')\n",
    "    \n",
    "    for value, score in zip(zip(*results), scores):\n",
    "        print('{}: %.3f +- %.3f'.format(score[0]) %(np.mean(value),\n",
    "                                                    np.std(value)))"
   ]
  },
  {
   "cell_type": "code",
   "execution_count": 16,
   "metadata": {
    "collapsed": true
   },
   "outputs": [],
   "source": [
    "param_grid = {'svc__C': [0.3, 0.5, 1.0, 1.3, 1.8]}"
   ]
  },
  {
   "cell_type": "code",
   "execution_count": 18,
   "metadata": {},
   "outputs": [
    {
     "name": "stdout",
     "output_type": "stream",
     "text": [
      "****** Repeat 1 of 10 ******\n",
      "Test results:\n",
      "[0.97637795275590555, 0.97999999999999998, 0.96078431372549022]\n",
      "---------------------------------------------------\n",
      "Test results:\n",
      "[0.96850393700787396, 0.92727272727272725, 1.0]\n",
      "---------------------------------------------------\n",
      "Test results:\n",
      "[0.98425196850393704, 1.0, 0.96078431372549022]\n",
      "---------------------------------------------------\n",
      "Test results:\n",
      "[0.99212598425196852, 1.0, 0.98039215686274506]\n",
      "---------------------------------------------------\n",
      "Test results:\n",
      "[0.97619047619047616, 0.96153846153846156, 0.98039215686274506]\n",
      "---------------------------------------------------\n",
      "****** Repeat 2 of 10 ******\n",
      "Test results:\n",
      "[0.99212598425196852, 0.98076923076923073, 1.0]\n",
      "---------------------------------------------------\n",
      "Test results:\n",
      "[0.98425196850393704, 0.98039215686274506, 0.98039215686274506]\n",
      "---------------------------------------------------\n",
      "Test results:\n",
      "[0.96062992125984248, 0.97916666666666663, 0.92156862745098034]\n",
      "---------------------------------------------------\n",
      "Test results:\n",
      "[0.97637795275590555, 0.97999999999999998, 0.96078431372549022]\n",
      "---------------------------------------------------\n",
      "Test results:\n",
      "[0.96031746031746035, 0.95999999999999996, 0.94117647058823528]\n",
      "---------------------------------------------------\n",
      "****** Repeat 3 of 10 ******\n",
      "Test results:\n",
      "[0.97637795275590555, 0.96153846153846156, 0.98039215686274506]\n",
      "---------------------------------------------------\n",
      "Test results:\n",
      "[0.96850393700787396, 0.96078431372549022, 0.96078431372549022]\n",
      "---------------------------------------------------\n",
      "Test results:\n",
      "[0.96062992125984248, 0.94230769230769229, 0.96078431372549022]\n",
      "---------------------------------------------------\n",
      "Test results:\n",
      "[0.96850393700787396, 0.97959183673469385, 0.94117647058823528]\n",
      "---------------------------------------------------\n",
      "Test results:\n",
      "[0.97619047619047616, 0.96153846153846156, 0.98039215686274506]\n",
      "---------------------------------------------------\n",
      "****** Repeat 4 of 10 ******\n",
      "Test results:\n",
      "[0.96062992125984248, 0.94230769230769229, 0.96078431372549022]\n",
      "---------------------------------------------------\n",
      "Test results:\n",
      "[0.98425196850393704, 0.96226415094339623, 1.0]\n",
      "---------------------------------------------------\n",
      "Test results:\n",
      "[1.0, 1.0, 1.0]\n",
      "---------------------------------------------------\n",
      "Test results:\n",
      "[0.96062992125984248, 0.95999999999999996, 0.94117647058823528]\n",
      "---------------------------------------------------\n",
      "Test results:\n",
      "[0.99206349206349209, 1.0, 0.98039215686274506]\n",
      "---------------------------------------------------\n",
      "****** Repeat 5 of 10 ******\n",
      "Test results:\n",
      "[0.952755905511811, 0.90909090909090906, 0.98039215686274506]\n",
      "---------------------------------------------------\n",
      "Test results:\n",
      "[0.96850393700787396, 0.96078431372549022, 0.96078431372549022]\n",
      "---------------------------------------------------\n",
      "Test results:\n",
      "[0.96062992125984248, 0.97916666666666663, 0.92156862745098034]\n",
      "---------------------------------------------------\n",
      "Test results:\n",
      "[0.97637795275590555, 0.97999999999999998, 0.96078431372549022]\n",
      "---------------------------------------------------\n",
      "Test results:\n",
      "[1.0, 1.0, 1.0]\n",
      "---------------------------------------------------\n",
      "****** Repeat 6 of 10 ******\n",
      "Test results:\n",
      "[0.96850393700787396, 0.94339622641509435, 0.98039215686274506]\n",
      "---------------------------------------------------\n",
      "Test results:\n",
      "[0.98425196850393704, 1.0, 0.96078431372549022]\n",
      "---------------------------------------------------\n",
      "Test results:\n",
      "[0.96850393700787396, 0.97959183673469385, 0.94117647058823528]\n",
      "---------------------------------------------------\n",
      "Test results:\n",
      "[0.97637795275590555, 0.96153846153846156, 0.98039215686274506]\n",
      "---------------------------------------------------\n",
      "Test results:\n",
      "[0.99206349206349209, 1.0, 0.98039215686274506]\n",
      "---------------------------------------------------\n",
      "****** Repeat 7 of 10 ******\n",
      "Test results:\n",
      "[0.99212598425196852, 1.0, 0.98039215686274506]\n",
      "---------------------------------------------------\n",
      "Test results:\n",
      "[0.98425196850393704, 0.96226415094339623, 1.0]\n",
      "---------------------------------------------------\n",
      "Test results:\n",
      "[0.94488188976377951, 0.93999999999999995, 0.92156862745098034]\n",
      "---------------------------------------------------\n",
      "Test results:\n",
      "[0.96850393700787396, 0.96078431372549022, 0.96078431372549022]\n",
      "---------------------------------------------------\n",
      "Test results:\n",
      "[0.99206349206349209, 1.0, 0.98039215686274506]\n",
      "---------------------------------------------------\n",
      "****** Repeat 8 of 10 ******\n",
      "Test results:\n",
      "[0.96062992125984248, 0.92592592592592593, 0.98039215686274506]\n",
      "---------------------------------------------------\n",
      "Test results:\n",
      "[0.96850393700787396, 0.97959183673469385, 0.94117647058823528]\n",
      "---------------------------------------------------\n",
      "Test results:\n",
      "[0.98425196850393704, 0.98039215686274506, 0.98039215686274506]\n",
      "---------------------------------------------------\n",
      "Test results:\n",
      "[0.99212598425196852, 0.98076923076923073, 1.0]\n",
      "---------------------------------------------------\n",
      "Test results:\n",
      "[0.97619047619047616, 0.97999999999999998, 0.96078431372549022]\n",
      "---------------------------------------------------\n",
      "****** Repeat 9 of 10 ******\n",
      "Test results:\n",
      "[0.97637795275590555, 0.96153846153846156, 0.98039215686274506]\n",
      "---------------------------------------------------\n",
      "Test results:\n",
      "[0.97637795275590555, 0.97999999999999998, 0.96078431372549022]\n",
      "---------------------------------------------------\n",
      "Test results:\n",
      "[0.98425196850393704, 1.0, 0.96078431372549022]\n",
      "---------------------------------------------------\n",
      "Test results:\n",
      "[0.952755905511811, 0.94117647058823528, 0.94117647058823528]\n",
      "---------------------------------------------------\n",
      "Test results:\n",
      "[0.97619047619047616, 0.96153846153846156, 0.98039215686274506]\n",
      "---------------------------------------------------\n",
      "****** Repeat 10 of 10 ******\n",
      "Test results:\n",
      "[0.96850393700787396, 0.97959183673469385, 0.94117647058823528]\n",
      "---------------------------------------------------\n",
      "Test results:\n",
      "[0.99212598425196852, 0.98076923076923073, 1.0]\n",
      "---------------------------------------------------\n",
      "Test results:\n",
      "[0.96062992125984248, 0.95999999999999996, 0.94117647058823528]\n",
      "---------------------------------------------------\n",
      "Test results:\n",
      "[0.96850393700787396, 0.94339622641509435, 0.98039215686274506]\n",
      "---------------------------------------------------\n",
      "Test results:\n",
      "[0.99206349206349209, 1.0, 0.98039215686274506]\n",
      "---------------------------------------------------\n",
      "accuracy: 0.976 +- 0.013\n",
      "precision: 0.971 +- 0.022\n",
      "recall: 0.969 +- 0.022\n"
     ]
    }
   ],
   "source": [
    "nested_cros_val(model, X.values, y, param_grid=param_grid, scoring='accuracy',\n",
    "                grid_cv=StratifiedKFold(n_splits=3),\n",
    "                scores=[('accuracy', accuracy_score),\n",
    "                        ('precision', precision_score),\n",
    "                        ('recall', recall_score)],\n",
    "                repeats=10)"
   ]
  },
  {
   "cell_type": "markdown",
   "metadata": {},
   "source": [
    "Our results\n",
    "- accuracy: 0.976 +- 0.013\n",
    "- precision: 0.971 +- 0.022\n",
    "- recall: 0.969 +- 0.022"
   ]
  }
 ],
 "metadata": {
  "kernelspec": {
   "display_name": "Python 2",
   "language": "python",
   "name": "python2"
  },
  "language_info": {
   "codemirror_mode": {
    "name": "ipython",
    "version": 2
   },
   "file_extension": ".py",
   "mimetype": "text/x-python",
   "name": "python",
   "nbconvert_exporter": "python",
   "pygments_lexer": "ipython2",
   "version": "2.7.13"
  }
 },
 "nbformat": 4,
 "nbformat_minor": 2
}
